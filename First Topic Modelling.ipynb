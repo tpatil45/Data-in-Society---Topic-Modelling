{
 "cells": [
  {
   "cell_type": "markdown",
   "metadata": {},
   "source": [
    "### Importing all the ncecessary libraries and functions."
   ]
  },
  {
   "cell_type": "code",
   "execution_count": 1,
   "metadata": {},
   "outputs": [],
   "source": [
    "import pandas as pd\n",
    "from sklearn.feature_extraction.text import CountVectorizer\n",
    "from sklearn.feature_extraction.text import TfidfVectorizer\n",
    "from sklearn.decomposition import LatentDirichletAllocation\n",
    "\n",
    "import nltk\n",
    "wnl = nltk.WordNetLemmatizer()\n",
    "from nltk.tokenize.treebank import TreebankWordDetokenizer\n",
    "\n",
    "import numpy as np\n",
    "import seaborn as sns\n",
    "import matplotlib.pyplot as plt"
   ]
  },
  {
   "cell_type": "markdown",
   "metadata": {},
   "source": [
    "### Reading the Data."
   ]
  },
  {
   "cell_type": "code",
   "execution_count": 2,
   "metadata": {},
   "outputs": [],
   "source": [
    "data1 = pd.read_csv(\"Sep 2 Reading Prompt.csv\")\n",
    "data2 = pd.read_csv(\"Sep 5 Reading Prompt.csv\")\n",
    "data3 = pd.read_csv(\"Sep 7 Reading Prompt.csv\")\n",
    "\n",
    "data1 = data1.drop([0, 1, 2])\n",
    "data2 = data2.drop([0, 1])\n",
    "data3 = data3.drop([0, 1, 2])\n",
    "\n",
    "data1['Q1'] = data1['Q1'].astype(str) + '_RP1'\n",
    "data2['Q1'] = data2['Q1'].astype(str) + '_RP2'\n",
    "data3['Q1'] = data3['Q1'].astype(str) + '_RP3'"
   ]
  },
  {
   "cell_type": "markdown",
   "metadata": {},
   "source": [
    "### Name of the Students"
   ]
  },
  {
   "cell_type": "code",
   "execution_count": 3,
   "metadata": {},
   "outputs": [
    {
     "name": "stdout",
     "output_type": "stream",
     "text": [
      "['Paul Franco_RP1' 'Gabrielle Novoa_RP1' 'Cole Horan_RP1'\n",
      " 'Alexander Viele_RP1' 'nebiyou meshesha _RP1' 'Sarah Khan_RP1'\n",
      " 'Stephanie Yun_RP1' 'Marni Cohen_RP1' 'William Domeniconi_RP1'\n",
      " 'Kaithlyn Atty_RP1']\n",
      "['Cole Horan_RP2' 'nebiyou meshesha _RP2' 'Paul Franco_RP2'\n",
      " 'William Domeniconi_RP2' 'Alexander Viele_RP2' 'Gabrielle Novoa_RP2'\n",
      " 'Marni Cohen_RP2' 'sarah khan_RP2' 'Kaithlyn Atty_RP2'\n",
      " 'Stephanie Yun_RP2']\n",
      "['Paul Franco_RP3' 'nebiyou meshesha _RP3' 'Gabrielle Novoa_RP3'\n",
      " 'Alexander Viele_RP3' 'Cole Horan_RP3' 'Stephanie Yun_RP3'\n",
      " 'Will Domeniconi_RP3' 'Marni Cohen_RP3' 'Kaithlyn Atty_RP3'\n",
      " 'sarah khan_RP3']\n"
     ]
    }
   ],
   "source": [
    "names_RP1 = data1['Q1'].values\n",
    "print(names_RP1)\n",
    "\n",
    "names_RP2 = data2['Q1'].values\n",
    "print(names_RP2)\n",
    "\n",
    "names_RP3 = data3['Q1'].values\n",
    "print(names_RP3)"
   ]
  },
  {
   "cell_type": "markdown",
   "metadata": {},
   "source": [
    "### Answers to Q2"
   ]
  },
  {
   "cell_type": "code",
   "execution_count": 4,
   "metadata": {},
   "outputs": [
    {
     "name": "stdout",
     "output_type": "stream",
     "text": [
      "['A measurable type is some information or data about a person that is recorded online that can be categorized into a group by an algorithm. Measurable types can be anything from demographic information like male, female, or age, or something more specific like \"fan of audi cars.\" The key idea is that a measurable type can be different from the actual truth about a person, because measurable types are determined and recorded by a sites algorithm, which can be incorrect in it\\'s evaluation.'\n",
      " 'A measurable type are datafied versions of ideal types'\n",
      " \"A measurable type is a piece of data that is collected and can be analyzed and categorized and therefore compared with other sets of data. Measurable data is often used in today's world of data. I have encountered in my day to day life would be signing up for an app and being asked what gender I am. In doing so, the app has set aside characteristics and pieces of layout that will be tailored to the gender I select. These are measurable and have multiple different answer choices that may change the functionality.\"\n",
      " 'A measurable type is a trait or title that is defined and explained through gathering of specific data points. For example “Terrorist”, “Professional Athlete”, or “Car Salesman”. The data points that are gathered for these range from location data, websites, aliases, connections, etc. A measurable type I have encountered is “Skateboarder”. If they wear skate clothes, smoke, are, and have tattoos then online they could definitely be labeled as such. I fit none of those data points but skateboard very well.'\n",
      " 'Data creates another identity for people. For example in the textbook it talked about drones the U.S. military used and how the data caused the identity of terrorists to become compromised. Terrorists were being grouped together by data based of societal information that is not always descriptive of a terrorist. With the new data the amount of drone strikes on \"terrorists\" increased significantly which raised suspicions on how accurate the data truly was.'\n",
      " 'Measurable types are also known as technical constructions. They are defined as the classifications which are observed and transcoded as data. They become discrete analytical models in which they could be used in profiling or knowledge abstraction. They are used for identification and efficiency'\n",
      " 'A measurable type is a data template, consisting of different elements that create a new, transcoded perception of the world. This type of template helps for algorithmic identities to compare with existing data models. These classifications are used as a model in profiling. This type helps to set a concrete criteria to progress towards a goal. One example of a measurable type that I may encounter is how much food to make for each day. I must take the time to calculate how much food I exactly have to make for myself so that I am not too full or still hungry. '\n",
      " 'A measurable type is a data template, a nexus of different datafilled elements that construct a new, transcoded interpretation of the world. These templates are most often used to assign users an identity, an algorithmic identification that compares streams of new data to existing datafied models. There are different characteristics both positive and negative that allow us to interpret an individuals measurable type. An example of a measurable type is that I am jewish. Being that my last name is Cohen, on a day to day basis it is recognized that I have a very Jewish last name, so I am identified as this often. There are other characteristics about me like my practices, my accessories, etc. that help to define me as jewish, which individuals can gather and interpret for my specific measurable type. '\n",
      " ' A measurable type is a data template, with countless datafied elements that are aggregated to take a new model or find a new conclusion. These templates can be applied anywhere until an algorithmic fit is found. Measurable types give us the ability to track streams of data that relate to a certain trend that may or may not have a relationship. This connection is like the example from the book on signature strikes, where the definition of a terrorist is actually just the collection of data points that constitute terrorist like action. Another example of a measurable type from my life could be the way that my consumer behavior is tracked by Amazon, so for when I buy jelly I will be marketed peanut butter. What the algorithm may not understand is that the reason I did not buy peanut butter because I may be alergic. '\n",
      " 'A measurable type is a data template. A measurable type turns our the different sectors of our intersectionalities, and transforms those parts of our identities into measurable categories. These categories are then compared to datafied pre existed models in order for whatever company or business to try to identify us. \\n\\nA measurable type that I have encountered in my day to day life would be me living as a female. My identity as a female is different the datafied female, but because I would imagine that in terms of being a female from a data perspective, they would see that I have purchased feminine products online, looked at makeup, and looked up skirts and dresses that because of those activities it has matched the pre existing category of what a \"female\" would have their online history.']\n",
      "['There are shortcomings when using a measurable type. The text explained how measurable types are often as if and not always accurate when depicting something. A severe gap is the loss of immeasurable traits that go missing when using a measurable type.'\n",
      " ' In the textbook they talk about the group of gender and how algorithms alters individuals identity. Googles data for example categorizes men and women into different groups based off common google searches for who they deem as men and women. for example it mentioned how a women doing bio research was considered a man by google analytics because of the disparity between men and women in that field.'\n",
      " \"Using a measurable type is taking human emotions and thoughts and actions and putting it into a string of 1's and 0's, which means that the context behind the actions of the individual are lost. The book always points out that there is difference between a terrorist and a 'terrorist.' One is a criminal who seeks to do harm upon others, while one is a collection of data points about someone's location and social interaction history. \"\n",
      " \"The example of the biologists that was often aggregating data, making communication, and google searches for work under her personal account. This led the google personalized ad page to give a very skewed view of 'herself'. They even had classified her as an older man. This was very similar to our discussion of when we search the word professor in google, not always will the most correct output come out rather our personal biases in google users and developers that have been aggregated. \"\n",
      " 'One shortcoming of using measurable types is their formation through “patterns viewed in respect to data collected”. Basically there is a predefined notion of a measurable type based on past data, and when new data is collected, patterns are deciphered within. This can lead to completely wrong descriptions of a measurable type.'\n",
      " 'A measurable type needs to be flexible in the understanding that different variables change meaning in different points of time. A measurable type cannot adapt to this change right away and can misconstrue the actually meaning of the data collected.'\n",
      " 'The reading talks about the surrounding ideas of \"gender\" and how this correlates to Data. Based on certain things looked up or key words, the computer recognizes that and then determines the gender or type of individual that you are. For instance, the machine is taught what is meant to be an \"old man\" and then interprets specific data accordingly. Furthermore, big data generates measurable types. '\n",
      " 'Two main gaps would be the cybersecurity risks and that there could be misinterpretations. With misinterpretations, sometimes measurable types would not be able to properly identify something. Storing big data, particularly sensitive data, can make companies a more attractive target for cyberattackers.'\n",
      " 'One of the biggest shortcomings of using a measurable type is that it strips the human out of us, just how Corporateal Fetishism is described (the objectification of human bodies). Measurable types take out the human in us. Also, in essence we do not exist if there is no data type that we fit in. Measurable types take the uniqueness out of each and every one of us, and turns us into bits. From atoms to bits as was mentioned in the readings.'\n",
      " 'Measurable types goes beyond the identification of a single category. Life can either be made useful, measurable, and controlled by data or put to waste and not monitored. As the government conducts individuals, it is shown who we are seen to be and how we are assigned resources. ']\n",
      "['Protocategorical intersectionality is the idea that you are more than the sum of your parts, or categories that big data assigns to you. The idea that Google thinks I am a man, and 18-24 years old works in combination with each other rather than as two distinct categories.'\n",
      " 'Protocategorical intersectionality is used as a way to incorporate data that allows for the connections of individuals and their identity to align through the use of data.'\n",
      " 'It is the overlapping of identifying categories of an individual. Intersectionality is one of the best ways to understand people as a whole instead of the harsh static labels of just race, class and gender.'\n",
      " 'Protocategorical intersectionality is cross of data collected that defines the measurable types. Using measurable types such as “man” or “black were inefficient at precisely targeting and grouping people. Instead, data that was able to be collected for anything a user did was utilized to define in the moment what a “man” was, and then used to define subsections of what a “man” was. This leads to protocategorical intersectionality where defining the multiple meanings for “man” constantly fluctuates based on data history.'\n",
      " \"Protocategorial intersectionality is in a way that multiple categories they are grouped into can combine and create a protocategory which can further lead to discrimination and oppression and often a new sector of 'you' in a sense of data. For example, in my case, I would be viewed as not only a male but I am also Caucasian. Due to this, these categories intersect with each other and create a white male category. In todays world, I would view this as a protocategory which has not experienced the same inequalities that others have. For example, a person who is a woman and also a person of color has had to endure the oppression of both categories and subsequently the categories together.\"\n",
      " 'Protocategorical intersectionality are an accurate way to essentially divide and categorize a certain \\'type\\'. It not only defines a gender but also a \"race, class, age, etc\". It analyzes a number of things such as type of tweets and interactions used. It develops a category based on the language of cultural interfaces made up largely from other elements. In other words, the term \\'man\\' is used as a data object to assign behavior rather than a social and political identity. Protocategorical intersectionality helps to avoid preexisting gender assignments. '\n",
      " 'I understood protocategorical intersectionality by the personality types example from the reading. Where they specifically highlighted the difference between example group c11 and c20. Group c20 produced outputs of almost all male like terms while group c11 produced the opposite being female. We remember back tot he readings from before that neither of the denominations constitutes real gender, rather an idea of what the data might think your gender is. A certain grouping of words may put you into one category, categories that have been formed on deeper levels than just man/woman or white/black. They want to develop a deeper understanding of our emotions and social interactions through large data. '\n",
      " 'Protocategorical intersectionality are identities that are patterns based on a larger sets of data. This is taken from a big set of data, and within is patterns and correlations from these large sets in which individuals analyze and interpret based off the information. It is how websites such as Google make intersectionality functional but understand that they are not 100% accurate. They are made after the clustered categories are created. '\n",
      " 'Protocategorical intersectionality is the intersection of our identities, but in terms of data, it its the intersection of our measurable types. It is the cross section of \\'gender\\', \\'age\\', \\'sexuality\\', \\'class\\' etc. What procategorical intersectionality embodies is that we are more than just one measurable type. I am not just a \"woman\", but I am also a \"black\" + \"woman\". In social terms that has a different meaning, but in terms of data if a company, application, or business is trying to identity me, they would make more profit by combining these two parts of my \\'identity\\' rather than just having one. It is creating an identity of myself that represents \"me\" in a more cumulative and datafied way. I am more than just one part of my \"identity\". '\n",
      " 'Protocategorical Intersectionality refers to demonstrating strong correlations between language and\\xa0categories, conveying both a nonacceptance of \"preexisting gender assignments\" as well as an example of the identificatory potential of models. Protocategorical intersectionalities are normally very accurate. ']\n"
     ]
    }
   ],
   "source": [
    "Q2_RP1 = data1['Q2'].values\n",
    "print(Q2_RP1)\n",
    "\n",
    "Q2_RP2 = data2['Q2'].values\n",
    "print(Q2_RP2)\n",
    "\n",
    "Q2_RP3 = data3['Q2'].values\n",
    "print(Q2_RP3)"
   ]
  },
  {
   "cell_type": "markdown",
   "metadata": {},
   "source": [
    "### Answers to Q3"
   ]
  },
  {
   "cell_type": "code",
   "execution_count": 5,
   "metadata": {},
   "outputs": [
    {
     "name": "stdout",
     "output_type": "stream",
     "text": [
      "['The limits of a measurable type is similar to the limit of any computer algorithm, that it can only determine what it\\'s learned through being fed data. Like HP\\'s facial recognition software, measurable types can miss things that they have not been trained to recognize. For example, the word categorizations that facebook and cornell did missed the fact that users would use a \"negative\" word in the greater context of a positive post, because the algorithm was not trained on the subtlety of human thought like that. In that way, measurable types don\\'t capture the full picture of who a person is.'\n",
      " \"The limitations of measurable types is that they aren't accurate in representing an individuals ideal type. The societal consequences of differentiating using a measurable type is that little bits of data can trigger falsified identities of individuals and when the data is misinterpreted it can lead to major security issues.\"\n",
      " \"Measurable types, much like big data as a whole, often exclude the true personal characteristics of a person such as their personality or feelings. Measurable types fail to fully grasp a human's mind in my opinion. Furthermore, there are societal consequences when you think about the way these types can be used to group individuals. These groupings can cause stereotypes to take place and actually discriminate against the categorizations that have been created. This was sort of seen with the facial recognition example we discussed in class.  \"\n",
      " 'The limitations of measurable types are that they remove the human aspects of the person they are collecting the data on and subsequently labeling. The focus becomes on what the data points relate to, rather than who the person is, what they do, or their motives. Someone who is labeled by a measurable type could have been labeled incorrectly, as data is only half of the picture of a person and does not reflect their real life actions. Perfect example is the increase in drone strikes between 2008-2012. The measurable types used to identify threats were not always correct in determining who was really dangerous.'\n",
      " 'The limitations of measurable types is that the data will not always be conclusive. The rapid increase of the drones used by the United States shows how inclusive and targeting certain data can be towards marginalized groups. '\n",
      " 'Measurable types are directed towards operability rather than exactness. It is a one-sided representation in which it can mistakenly define something. It could also possibly not identify something correctly, which can create societal consequences.'\n",
      " \"The measurable type assigns identities to a specific number. In regards to Facebook, Facebook's programming is set to record and calculate the percentage-value of how sexual one's Facebook status updates are. The limitations also include the disruption of human interpretation on these data points and the analysis of emotional and psychological lives online. The production of certain standards manipulates the identification of other users. \"\n",
      " 'Measurable types are classifications, so the limitations are what either fits in or does not fit into what may classify an individual. There are both negative and positive classifications that an individual may have- for instance someone who is a terrorist would have more negative societal consequences in the way that individuals look or treat them, whereas someone who is maybe classified with positive expressions would have less negative societal consequences and maybe more positive outlooks. '\n",
      " 'Going off my example from above, measurable types are only as good as the stream of metadata they are pulling from. These data points come with the same biases that were talked about in our first lecture (HP Camera Scandal). The algorithm may only be as good as the programmer, as when we are targeting terrorists we look for data points that intersect with those that are normally what we have been trained to think. Like looking for a person that would be Muslim, from the Middle East, and not white, while there are many people that are terrorists that do not fall into these streams of categorization.  '\n",
      " 'The limitations of measurable types is that we as humans are more than data. Just because I bought feminine products, makeup, and skirts does not mean that I am a female. A male could have bought those things for himself, or a female could have used a male\\'s account when buying those items just to name a few examples. In terms of societal consequences that we have because of these categorizations and limitations, the biases that we have will exude and be integrated when our identities are being created online. What ever prejudices that we have, will translate to the programs, websites, software, and other technologies that we create. Another big issue is that there is a \"norm\" that is created online, and then everything else becomes \"abnormal\". So when a phone only recognizes a white face, but then other brown and black faces are then not recognized, brown and black faces are seen as abnormal as that data was not registered in those technologies.']\n",
      "['In the \"Shimon\" example, the jazz robot was using computer processing power to configure an algorithm which would pick up on notes and then configure music by combining these notes. These automated systems are trained to do just this but can have issues listening depending on audio quality. Furthermore, if a Jazz artist was to add their own notes to a pre-existing track, the robot would have difficulties configuring the music. I believe it does not fully capture the nuance of the music and history because it is only able to do what algorithm it has learned,'\n",
      " 'The Shimon example is one of the many examples that shows the faults with algorithms and how the incorporation of data is not always consistent. The system used data that was put together by an individual so the data was subjective in the sense that their was bias apart of the collection of music. The issue with these automated systems is that music and its genres are very subjective so its hard to label and categorize music as jazz. What one person might call jazz another might call the blues there is no right answer, only opinions. '\n",
      " \"The Jazz robot configured music by being fed data points of the performances of famous jazz musicians, to the point where the robot could replicate the play style of those musicians. A possible consequence of the use of such an automated system is that when a robot plays a certain type of music, it ignores the demographic characteristics of the artists who pioneered that style, and reduces the art down to just what you can hear. This is why it doesn't effectively capture the nuance of music and jazz history, because it loses the personal element.\"\n",
      " 'Yes, I do believe that it has the ability to capture the nuance of the music. It starts off by leading in saying that the music needs to be heard and move with Jazz. They created a machine named \\'Shimon\" that not only had the ability to copy all of the required songs and noises. But also was a machine that could learn to adapt and continuously change by learning more and more sounds, and rhythms. Similar to an artist the computer will continue to learn throughout its life. A consequence of using such a system does take away from the true identity of musicians, the way they read, hear, and understand music is part of their own character. An seeing music from the ground roots up will never be able to be fully understood by a data scientist, even if they are are able to create a mere identical like system'\n",
      " 'Shimon was given hundreds of sheets of music, from both famous Jazz artists, and the creators personal music creations, in order to algorithmically respond to music being played around it. Although Shimon could play music excellent, it needed to be fed this data. It had no knowledge of the Harlem Renaissance or current Jazz trends unless fed this music information. A possible consequence is the missed cues of culture or cultural appropriation. People are dynamic, and if a machine like Shimon is not up to date, it could do/play something not appropriate. Like Google AI repeating back racists swear words.'\n",
      " \"The Shimon robot created jazz music by combining two different jazz artists music together and calling it it's own.The problem with this is that although it can possibly create a sound similar to most jazz music it is missing the true meaning behind every note. There is much more to data than at the surface and only a human can create and understand that deeper meaning.\"\n",
      " 'The system algorithmically configured music by \"machine learning\". Shimon learned how to play jazz from the data in the database. He relied on these machine algorithms  to learn.  Consequences that come with this  is that he has to learn how it adapts to change. Good musicians are able to put together the music with individuals and see how that correlates, so I think by only knowing the structure over \"machine learning\" helps to lose the real time connection of music in a real life environment with people. You lose the history and identities of what the Jazz really means and where it comes from.'\n",
      " 'The robot analyzes a large dataset of music in an effort to identify patterns that appear in all songs and genres in the dataset. Possible consequences could be that the robot will misread the music. With it not being an actual person, I do think that there is an effort to capture the \"nuance\" of music, but it is not completely adapting to jazz history. '\n",
      " \"Shimon follows what jazz is currently by predictive statistical modeling. Shimon parsed the solos of both musician Monk and Coltrane, and their pitches, volumes, and rhythm patterns. Shimon studies the commonalities. Coltrane, Monk, and the players that would play beside him become measurable types. \\n\\n Some of the consequences with this is that a robot does not have the all the soul and knowledge from what jazz is and the nuance of music. It is the objectification of music . The robot is not playing jazz. The robot full of code and algorithms that is being run. Another consequence is that it only captures at most 50% one of the musicians or 'you'.\"\n",
      " 'Possible consequences of using an automated system such as \"Shimon\" can lead to overriding of systems and hacking. These machines can grow smarter over time and expand their algorithmic identification of \\'you\\'. This new form of human and robot communication works together to improvise new beats and rhythms. As the algorithms collected are only from Big Data and Deep Learning, this product creates mixes of classical and jazz music and is always one step ahead of the human musician\\'s brain. Shimon can only play a composition not a specific song. ']\n",
      "['The implications are that your online experience will not be some ads tailored to your gender, some ads targeted to your age, and some ads targeted to your income level, but instead ads that are trying to target the intersection of all of those categories.'\n",
      " 'Some implications of protocategorical intersectionality are that they are no always indicative of what is true and what individuals want to see. The data that is gathered is based of certain indicators and those indicators although valid may not line up with certain peoples identities. '\n",
      " 'This process can make it easier to advertise to a very specific demographic and not just \"sex\" \"gender\" and \"race\". Instead it can combine into a \"Latina middle class women who is on twitter every morning for 30 minutes\". By intertwining defining characteristics it goes beyond the racial and classist explanations and becomes a new defining identity that Google and other companies can define in their own ways. '\n",
      " 'The implication this could have on my online experience is that the meaning of a “man” could be shifted depending on what is popular among data for men in the moment. Likewise, a deeper definition for specifically myself “male skateboarder” may be shifted between “female skateboarder” based on the specific searches that I choose to make the data that is collected on me.'\n",
      " 'Protocategorical intersectionality can have many influences on the online user experience. Due to the fact these internet conglomerates have been able to collect and analyze data from almost every single aspect of our lives, we are constantly being placed into categories and furthermore, protocategories. Implications can stretch as far as the distinct personalized ads we encounter on websites to even recommendations of who to follow or friend request on social media apps.'\n",
      " 'On Twitter, the data set takes a cluster of tweets in order to demonstrate the correlation between different styles and languages used. This furthers down the data set to a \\'type of man\\' and generates an inference from a bunch of category intersections. On the app Angry Birds, the users are categorized based on their swing. The type of swing performed to execute the pigs using the birds, aggregates data about your smartphone and distinguishes the real \\'swingers\\' from the \\'fake\\' swingers. This then determines the \"ethnicity\" of a swinger only based off of imperfection and inconsistency of the measurable type. '\n",
      " \"The implications of this could cause you to be microtargeted into a segment that you don't naturally fall into, and surf through thousands of ads that are completely wrong while the right ads could be playing. Developers also seem to have biases for using the triggers that result in one specific grouping. The program will only run as well as those who were designing it, and answering questions like what words constitute manliness, whiteness, or even marriedness could be skewed very easily. \"\n",
      " 'Protocategorical intersectionality does not look at things separately, but rather together which can be a negative effect to its use. For instance, when looking at, like mentioned in the reading \"black lesbian women\" they see it as one whole and not separate measurable types. It ignores the true meaning of each separate description- black, lesbian, and women. This can effect on online users experience as it groups together certain things that shouldn\\'t be. '\n",
      " 'I am a black woman, and in data terms I could be (depending on what I am labeled as) a \"black\" + \"woman\". So if an ad company wants to get my attention by showing me makeup for example, if Maybelline has a foundation line that is only usable for people with white and light skin tones, then I will not click on that ad. But because I am labeled as a \"black\" + \"woman\", they might show me makeup from black owned businesses, or makeup that is dark skinned friendly and has a foundation line that matches darker complexion. The implications of protocategorical insectionalities will allow me to be targeted better. Businesses, ads, and companies will have an easier time trying to get my attention because they can see multiple parts of my \"identity\", and use all of that data in order to best catch my attention. I then become an easier target .'\n",
      " 'Protocategorical intersectionality is limited to aspects that engages with race, class, and gender on terms that are unseen but not overly evident. Protocategorical intersectional politics comes into the picture only after the clustered category is created, not before. ']\n"
     ]
    }
   ],
   "source": [
    "Q3_RP1 = data1['Q3'].values\n",
    "print(Q3_RP1)\n",
    "\n",
    "Q3_RP2 = data2['Q3'].values\n",
    "print(Q3_RP2)\n",
    "\n",
    "Q3_RP3 = data3['Q3'].values\n",
    "print(Q3_RP3)"
   ]
  }
 ],
 "metadata": {
  "kernelspec": {
   "display_name": "Python 3",
   "language": "python",
   "name": "python3"
  },
  "language_info": {
   "codemirror_mode": {
    "name": "ipython",
    "version": 3
   },
   "file_extension": ".py",
   "mimetype": "text/x-python",
   "name": "python",
   "nbconvert_exporter": "python",
   "pygments_lexer": "ipython3",
   "version": "3.7.1"
  }
 },
 "nbformat": 4,
 "nbformat_minor": 2
}
